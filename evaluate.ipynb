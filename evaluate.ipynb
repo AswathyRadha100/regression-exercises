{
 "cells": [
  {
   "cell_type": "markdown",
   "id": "b981b76c",
   "metadata": {},
   "source": [
    "\n",
    "  \n",
    "<div style=\"background-color: Olive; padding: 40px; font-size: 40px;\">\n",
    "           Evaluating Regression Models\n",
    "</div>\n",
    "  "
   ]
  },
  {
   "cell_type": "markdown",
   "id": "fdc2e3b8",
   "metadata": {},
   "source": [
    "## Exercises\n",
    "Do you work for this exercise in either a jupyter notebook named evaluate within your regression-exercises repository. By the end of this exercise you will also create a python script named evaluate, so the overall deliverables for this exercise are the python script and jupyter notebook both with the name evaluate within your regression-exercises repo."
   ]
  },
  {
   "cell_type": "code",
   "execution_count": 75,
   "id": "00f6283c",
   "metadata": {},
   "outputs": [],
   "source": [
    "import pandas as pd\n",
    "import numpy as np\n",
    "import matplotlib.pyplot as plt\n",
    "import seaborn as sns\n",
    "\n",
    "from sklearn.preprocessing import MinMaxScaler \n",
    "from sklearn.linear_model import LinearRegression\n",
    "from sklearn.metrics import mean_squared_error\n",
    "from sklearn.metrics import r2_score\n",
    "\n",
    "import wrangle as w\n",
    "from wrangle import wrangle_zillow,split_data\n",
    "import os\n",
    "import warnings\n",
    "warnings.filterwarnings(\"ignore\")"
   ]
  },
  {
   "cell_type": "code",
   "execution_count": 2,
   "id": "9bbbeff8",
   "metadata": {},
   "outputs": [],
   "source": [
    "# Acquire the zillow dataset, prepare data and returns clean data frame\n",
    "\n",
    "df = w.wrangle_zillow()\n"
   ]
  },
  {
   "cell_type": "code",
   "execution_count": 7,
   "id": "ebca9a02",
   "metadata": {},
   "outputs": [
    {
     "data": {
      "text/html": [
       "<div>\n",
       "<style scoped>\n",
       "    .dataframe tbody tr th:only-of-type {\n",
       "        vertical-align: middle;\n",
       "    }\n",
       "\n",
       "    .dataframe tbody tr th {\n",
       "        vertical-align: top;\n",
       "    }\n",
       "\n",
       "    .dataframe thead th {\n",
       "        text-align: right;\n",
       "    }\n",
       "</style>\n",
       "<table border=\"1\" class=\"dataframe\">\n",
       "  <thead>\n",
       "    <tr style=\"text-align: right;\">\n",
       "      <th></th>\n",
       "      <th>bedrooms</th>\n",
       "      <th>bathrooms</th>\n",
       "      <th>area</th>\n",
       "      <th>taxvalue</th>\n",
       "      <th>yearbuilt</th>\n",
       "      <th>taxamount</th>\n",
       "      <th>county</th>\n",
       "    </tr>\n",
       "  </thead>\n",
       "  <tbody>\n",
       "    <tr>\n",
       "      <th>4</th>\n",
       "      <td>4</td>\n",
       "      <td>2.0</td>\n",
       "      <td>3633</td>\n",
       "      <td>296425</td>\n",
       "      <td>2005</td>\n",
       "      <td>6941.39</td>\n",
       "      <td>LA</td>\n",
       "    </tr>\n",
       "    <tr>\n",
       "      <th>6</th>\n",
       "      <td>3</td>\n",
       "      <td>4.0</td>\n",
       "      <td>1620</td>\n",
       "      <td>847770</td>\n",
       "      <td>2011</td>\n",
       "      <td>10244.94</td>\n",
       "      <td>LA</td>\n",
       "    </tr>\n",
       "    <tr>\n",
       "      <th>7</th>\n",
       "      <td>3</td>\n",
       "      <td>2.0</td>\n",
       "      <td>2077</td>\n",
       "      <td>646760</td>\n",
       "      <td>1926</td>\n",
       "      <td>7924.68</td>\n",
       "      <td>LA</td>\n",
       "    </tr>\n",
       "    <tr>\n",
       "      <th>11</th>\n",
       "      <td>0</td>\n",
       "      <td>0.0</td>\n",
       "      <td>1200</td>\n",
       "      <td>5328</td>\n",
       "      <td>1972</td>\n",
       "      <td>91.60</td>\n",
       "      <td>LA</td>\n",
       "    </tr>\n",
       "    <tr>\n",
       "      <th>14</th>\n",
       "      <td>0</td>\n",
       "      <td>0.0</td>\n",
       "      <td>171</td>\n",
       "      <td>6920</td>\n",
       "      <td>1973</td>\n",
       "      <td>255.17</td>\n",
       "      <td>LA</td>\n",
       "    </tr>\n",
       "  </tbody>\n",
       "</table>\n",
       "</div>"
      ],
      "text/plain": [
       "    bedrooms  bathrooms  area  taxvalue  yearbuilt  taxamount county\n",
       "4          4        2.0  3633    296425       2005    6941.39     LA\n",
       "6          3        4.0  1620    847770       2011   10244.94     LA\n",
       "7          3        2.0  2077    646760       1926    7924.68     LA\n",
       "11         0        0.0  1200      5328       1972      91.60     LA\n",
       "14         0        0.0   171      6920       1973     255.17     LA"
      ]
     },
     "execution_count": 7,
     "metadata": {},
     "output_type": "execute_result"
    }
   ],
   "source": [
    "df.head()"
   ]
  },
  {
   "cell_type": "code",
   "execution_count": 3,
   "id": "ea3403d3",
   "metadata": {},
   "outputs": [
    {
     "name": "stdout",
     "output_type": "stream",
     "text": [
      "train: 1498164 (70% of 2140235)\n",
      "validate: 321035 (15% of 2140235)\n",
      "test: 321036 (15% of 2140235)\n"
     ]
    }
   ],
   "source": [
    "train, validate, test = w.split_data(df)"
   ]
  },
  {
   "cell_type": "code",
   "execution_count": 5,
   "id": "e0d7b746",
   "metadata": {},
   "outputs": [
    {
     "name": "stdout",
     "output_type": "stream",
     "text": [
      "<class 'pandas.core.frame.DataFrame'>\n",
      "Index: 1498164 entries, 1007466 to 1702727\n",
      "Data columns (total 7 columns):\n",
      " #   Column     Non-Null Count    Dtype  \n",
      "---  ------     --------------    -----  \n",
      " 0   bedrooms   1498164 non-null  int64  \n",
      " 1   bathrooms  1498164 non-null  float64\n",
      " 2   area       1498164 non-null  int64  \n",
      " 3   taxvalue   1498164 non-null  int64  \n",
      " 4   yearbuilt  1498164 non-null  int64  \n",
      " 5   taxamount  1498164 non-null  float64\n",
      " 6   county     1498164 non-null  object \n",
      "dtypes: float64(2), int64(4), object(1)\n",
      "memory usage: 91.4+ MB\n"
     ]
    }
   ],
   "source": [
    "train.info()"
   ]
  },
  {
   "cell_type": "code",
   "execution_count": 6,
   "id": "25090956",
   "metadata": {},
   "outputs": [
    {
     "data": {
      "text/html": [
       "<div>\n",
       "<style scoped>\n",
       "    .dataframe tbody tr th:only-of-type {\n",
       "        vertical-align: middle;\n",
       "    }\n",
       "\n",
       "    .dataframe tbody tr th {\n",
       "        vertical-align: top;\n",
       "    }\n",
       "\n",
       "    .dataframe thead th {\n",
       "        text-align: right;\n",
       "    }\n",
       "</style>\n",
       "<table border=\"1\" class=\"dataframe\">\n",
       "  <thead>\n",
       "    <tr style=\"text-align: right;\">\n",
       "      <th></th>\n",
       "      <th>bedrooms</th>\n",
       "      <th>bathrooms</th>\n",
       "      <th>area</th>\n",
       "      <th>taxvalue</th>\n",
       "      <th>yearbuilt</th>\n",
       "      <th>taxamount</th>\n",
       "      <th>county</th>\n",
       "    </tr>\n",
       "  </thead>\n",
       "  <tbody>\n",
       "    <tr>\n",
       "      <th>368724</th>\n",
       "      <td>3</td>\n",
       "      <td>1.0</td>\n",
       "      <td>1105</td>\n",
       "      <td>217721</td>\n",
       "      <td>1949</td>\n",
       "      <td>2444.55</td>\n",
       "      <td>LA</td>\n",
       "    </tr>\n",
       "    <tr>\n",
       "      <th>1055986</th>\n",
       "      <td>4</td>\n",
       "      <td>3.0</td>\n",
       "      <td>2675</td>\n",
       "      <td>544098</td>\n",
       "      <td>1971</td>\n",
       "      <td>6446.42</td>\n",
       "      <td>Ventura</td>\n",
       "    </tr>\n",
       "  </tbody>\n",
       "</table>\n",
       "</div>"
      ],
      "text/plain": [
       "         bedrooms  bathrooms  area  taxvalue  yearbuilt  taxamount   county\n",
       "368724          3        1.0  1105    217721       1949    2444.55       LA\n",
       "1055986         4        3.0  2675    544098       1971    6446.42  Ventura"
      ]
     },
     "execution_count": 6,
     "metadata": {},
     "output_type": "execute_result"
    }
   ],
   "source": [
    "#Before scaling\n",
    "train.sample(2)"
   ]
  },
  {
   "cell_type": "code",
   "execution_count": null,
   "id": "bcf71db6",
   "metadata": {},
   "outputs": [],
   "source": [
    "scale the data robust or minmax scaler"
   ]
  },
  {
   "cell_type": "code",
   "execution_count": 9,
   "id": "b36f09df",
   "metadata": {},
   "outputs": [],
   "source": [
    "\n",
    "# Create a list of numeric column names (excluding non-numeric columns)\n",
    "#Exclude the 'county' column, which is non-numeric.\n",
    "\n",
    "numeric_columns = ['bedrooms', 'bathrooms', 'area', 'taxvalue', 'yearbuilt', 'taxamount']\n",
    "\n",
    "# Initialize the MinMaxScaler\n",
    "mms = MinMaxScaler()\n",
    "\n",
    "# Fit and transform the train dataset using only the numeric columns\n",
    "train[numeric_columns] = mms.fit_transform(train[numeric_columns])\n",
    "\n",
    "# Transform the validate and test datasets using the same scaler and numeric columns\n",
    "validate[numeric_columns] = mms.transform(validate[numeric_columns])\n",
    "test[numeric_columns] = mms.transform(test[numeric_columns])\n",
    "\n",
    "\n"
   ]
  },
  {
   "cell_type": "code",
   "execution_count": 10,
   "id": "1455dc53",
   "metadata": {},
   "outputs": [
    {
     "data": {
      "text/html": [
       "<div>\n",
       "<style scoped>\n",
       "    .dataframe tbody tr th:only-of-type {\n",
       "        vertical-align: middle;\n",
       "    }\n",
       "\n",
       "    .dataframe tbody tr th {\n",
       "        vertical-align: top;\n",
       "    }\n",
       "\n",
       "    .dataframe thead th {\n",
       "        text-align: right;\n",
       "    }\n",
       "</style>\n",
       "<table border=\"1\" class=\"dataframe\">\n",
       "  <thead>\n",
       "    <tr style=\"text-align: right;\">\n",
       "      <th></th>\n",
       "      <th>bedrooms</th>\n",
       "      <th>bathrooms</th>\n",
       "      <th>area</th>\n",
       "      <th>taxvalue</th>\n",
       "      <th>yearbuilt</th>\n",
       "      <th>taxamount</th>\n",
       "      <th>county</th>\n",
       "    </tr>\n",
       "  </thead>\n",
       "  <tbody>\n",
       "    <tr>\n",
       "      <th>1675167</th>\n",
       "      <td>0.166667</td>\n",
       "      <td>0.03125</td>\n",
       "      <td>0.001115</td>\n",
       "      <td>0.000610</td>\n",
       "      <td>0.697674</td>\n",
       "      <td>0.000931</td>\n",
       "      <td>LA</td>\n",
       "    </tr>\n",
       "    <tr>\n",
       "      <th>1649159</th>\n",
       "      <td>0.166667</td>\n",
       "      <td>0.06250</td>\n",
       "      <td>0.001304</td>\n",
       "      <td>0.001969</td>\n",
       "      <td>0.706977</td>\n",
       "      <td>0.002200</td>\n",
       "      <td>LA</td>\n",
       "    </tr>\n",
       "  </tbody>\n",
       "</table>\n",
       "</div>"
      ],
      "text/plain": [
       "         bedrooms  bathrooms      area  taxvalue  yearbuilt  taxamount county\n",
       "1675167  0.166667    0.03125  0.001115  0.000610   0.697674   0.000931     LA\n",
       "1649159  0.166667    0.06250  0.001304  0.001969   0.706977   0.002200     LA"
      ]
     },
     "execution_count": 10,
     "metadata": {},
     "output_type": "execute_result"
    }
   ],
   "source": [
    "#After scaling \n",
    "train.sample(2)"
   ]
  },
  {
   "cell_type": "markdown",
   "id": "75e27b45",
   "metadata": {},
   "source": [
    " ## 2. Fit a linear regression model (ordinary least squares) and compute yhat, predictions of taxvaluedollarcnt using only calculatedfinishedsqft.\n",
    "\n",
    "\n",
    "Here is some sample code to get you started:\n",
    "\n",
    "\n",
    "from sklearn.linear_model import LinearRegression\n",
    "#### assuming X and y are already defined\n",
    "model = LinearRegression().fit(X, y)\n",
    "predictions = model.predict(X)\n",
    "\n",
    "Modify and add to the code above as necessary for it to work with the zillow dataset.\n"
   ]
  },
  {
   "cell_type": "code",
   "execution_count": 12,
   "id": "7f3291bf",
   "metadata": {},
   "outputs": [
    {
     "data": {
      "text/html": [
       "<div>\n",
       "<style scoped>\n",
       "    .dataframe tbody tr th:only-of-type {\n",
       "        vertical-align: middle;\n",
       "    }\n",
       "\n",
       "    .dataframe tbody tr th {\n",
       "        vertical-align: top;\n",
       "    }\n",
       "\n",
       "    .dataframe thead th {\n",
       "        text-align: right;\n",
       "    }\n",
       "</style>\n",
       "<table border=\"1\" class=\"dataframe\">\n",
       "  <thead>\n",
       "    <tr style=\"text-align: right;\">\n",
       "      <th></th>\n",
       "      <th>bedrooms</th>\n",
       "      <th>bathrooms</th>\n",
       "      <th>area</th>\n",
       "      <th>taxvalue</th>\n",
       "      <th>yearbuilt</th>\n",
       "      <th>taxamount</th>\n",
       "      <th>county</th>\n",
       "    </tr>\n",
       "  </thead>\n",
       "  <tbody>\n",
       "    <tr>\n",
       "      <th>1007466</th>\n",
       "      <td>0.166667</td>\n",
       "      <td>0.0625</td>\n",
       "      <td>0.001523</td>\n",
       "      <td>0.002672</td>\n",
       "      <td>0.832558</td>\n",
       "      <td>0.002747</td>\n",
       "      <td>LA</td>\n",
       "    </tr>\n",
       "    <tr>\n",
       "      <th>615622</th>\n",
       "      <td>0.166667</td>\n",
       "      <td>0.0625</td>\n",
       "      <td>0.001324</td>\n",
       "      <td>0.002612</td>\n",
       "      <td>0.706977</td>\n",
       "      <td>0.002797</td>\n",
       "      <td>LA</td>\n",
       "    </tr>\n",
       "  </tbody>\n",
       "</table>\n",
       "</div>"
      ],
      "text/plain": [
       "         bedrooms  bathrooms      area  taxvalue  yearbuilt  taxamount county\n",
       "1007466  0.166667     0.0625  0.001523  0.002672   0.832558   0.002747     LA\n",
       "615622   0.166667     0.0625  0.001324  0.002612   0.706977   0.002797     LA"
      ]
     },
     "execution_count": 12,
     "metadata": {},
     "output_type": "execute_result"
    }
   ],
   "source": [
    "train.head(2)"
   ]
  },
  {
   "cell_type": "code",
   "execution_count": 14,
   "id": "ff4b1eca",
   "metadata": {},
   "outputs": [],
   "source": [
    "#drop extra columns\n",
    "train = train.drop(columns=['bedrooms','bathrooms',\n",
    "                    'yearbuilt','taxamount', 'county'])"
   ]
  },
  {
   "cell_type": "code",
   "execution_count": 15,
   "id": "cefa7087",
   "metadata": {},
   "outputs": [
    {
     "data": {
      "text/html": [
       "<div>\n",
       "<style scoped>\n",
       "    .dataframe tbody tr th:only-of-type {\n",
       "        vertical-align: middle;\n",
       "    }\n",
       "\n",
       "    .dataframe tbody tr th {\n",
       "        vertical-align: top;\n",
       "    }\n",
       "\n",
       "    .dataframe thead th {\n",
       "        text-align: right;\n",
       "    }\n",
       "</style>\n",
       "<table border=\"1\" class=\"dataframe\">\n",
       "  <thead>\n",
       "    <tr style=\"text-align: right;\">\n",
       "      <th></th>\n",
       "      <th>area</th>\n",
       "      <th>taxvalue</th>\n",
       "    </tr>\n",
       "  </thead>\n",
       "  <tbody>\n",
       "    <tr>\n",
       "      <th>1007466</th>\n",
       "      <td>0.001523</td>\n",
       "      <td>0.002672</td>\n",
       "    </tr>\n",
       "    <tr>\n",
       "      <th>615622</th>\n",
       "      <td>0.001324</td>\n",
       "      <td>0.002612</td>\n",
       "    </tr>\n",
       "  </tbody>\n",
       "</table>\n",
       "</div>"
      ],
      "text/plain": [
       "             area  taxvalue\n",
       "1007466  0.001523  0.002672\n",
       "615622   0.001324  0.002612"
      ]
     },
     "execution_count": 15,
     "metadata": {},
     "output_type": "execute_result"
    }
   ],
   "source": [
    "#After column drop\n",
    "train.head(2)"
   ]
  },
  {
   "cell_type": "code",
   "execution_count": null,
   "id": "c8ed3d77",
   "metadata": {},
   "outputs": [],
   "source": [
    "# Check Min and Max(The minimum should be 0, and the \n",
    "# maximum should be 1. Purpose of this is to ensure that the\n",
    "# column is scaled to a consistent range [0, 1])"
   ]
  },
  {
   "cell_type": "code",
   "execution_count": 19,
   "id": "0f8bbca1",
   "metadata": {},
   "outputs": [
    {
     "data": {
      "text/plain": [
       "(0.0, 0.0)"
      ]
     },
     "execution_count": 19,
     "metadata": {},
     "output_type": "execute_result"
    }
   ],
   "source": [
    "train.area.min(), train.taxvalue.min()"
   ]
  },
  {
   "cell_type": "code",
   "execution_count": 18,
   "id": "3bc3bf70",
   "metadata": {},
   "outputs": [
    {
     "data": {
      "text/plain": [
       "(1.0, 1.0)"
      ]
     },
     "execution_count": 18,
     "metadata": {},
     "output_type": "execute_result"
    }
   ],
   "source": [
    "train.area.max(), train.taxvalue.max()\n"
   ]
  },
  {
   "cell_type": "code",
   "execution_count": 28,
   "id": "31888eac",
   "metadata": {},
   "outputs": [],
   "source": [
    "# Define X_train and y_train as follows\n",
    "X_train = train[['area']]  # Feature (independent variable)\n",
    "y_train = train['taxvalue']  # Target variable (dependent variable)\n",
    "\n",
    "X_validate = validate[['area']]\n",
    "y_validate = validate.taxvalue\n",
    "\n",
    "X_test = test[['area']]\n",
    "y_test = test.taxvalue\n",
    "\n",
    "# Creating and fitting an Ordinary Least Squares (OLS) \n",
    "# linear regression model \n",
    "model = LinearRegression().fit(X_train, y_train)\n",
    "\n",
    "# Make predictions (compute yhat)\n",
    "yhat = model.predict(X_train)\n",
    "\n",
    "# Now, yhat contains the predicted values for taxvalue based on area\n"
   ]
  },
  {
   "cell_type": "markdown",
   "id": "20f876c9",
   "metadata": {},
   "source": [
    "Notes:-\n",
    "Ordinary Least Squares(OLS)\n",
    "The goal of OLS is to find the linear relationship between the independent variables (features) and the dependent variable (target) that minimizes the sum of the squared differences between the observed and predicted values."
   ]
  },
  {
   "cell_type": "code",
   "execution_count": 30,
   "id": "2c63372f",
   "metadata": {},
   "outputs": [],
   "source": [
    "#save yhat(i.e predictions) into train df\n",
    "train['yhat'] = yhat"
   ]
  },
  {
   "cell_type": "code",
   "execution_count": 31,
   "id": "baa84a0d",
   "metadata": {},
   "outputs": [
    {
     "data": {
      "text/html": [
       "<div>\n",
       "<style scoped>\n",
       "    .dataframe tbody tr th:only-of-type {\n",
       "        vertical-align: middle;\n",
       "    }\n",
       "\n",
       "    .dataframe tbody tr th {\n",
       "        vertical-align: top;\n",
       "    }\n",
       "\n",
       "    .dataframe thead th {\n",
       "        text-align: right;\n",
       "    }\n",
       "</style>\n",
       "<table border=\"1\" class=\"dataframe\">\n",
       "  <thead>\n",
       "    <tr style=\"text-align: right;\">\n",
       "      <th></th>\n",
       "      <th>area</th>\n",
       "      <th>taxvalue</th>\n",
       "      <th>yhat</th>\n",
       "    </tr>\n",
       "  </thead>\n",
       "  <tbody>\n",
       "    <tr>\n",
       "      <th>1007466</th>\n",
       "      <td>0.001523</td>\n",
       "      <td>0.002672</td>\n",
       "      <td>0.004046</td>\n",
       "    </tr>\n",
       "    <tr>\n",
       "      <th>615622</th>\n",
       "      <td>0.001324</td>\n",
       "      <td>0.002612</td>\n",
       "      <td>0.003556</td>\n",
       "    </tr>\n",
       "  </tbody>\n",
       "</table>\n",
       "</div>"
      ],
      "text/plain": [
       "             area  taxvalue      yhat\n",
       "1007466  0.001523  0.002672  0.004046\n",
       "615622   0.001324  0.002612  0.003556"
      ]
     },
     "execution_count": 31,
     "metadata": {},
     "output_type": "execute_result"
    }
   ],
   "source": [
    "train.head(2)"
   ]
  },
  {
   "cell_type": "markdown",
   "id": "2b5dc22a",
   "metadata": {},
   "source": [
    "## 3 Plot the residuals for the linear regression model that you made."
   ]
  },
  {
   "cell_type": "code",
   "execution_count": 35,
   "id": "ead5205d",
   "metadata": {},
   "outputs": [],
   "source": [
    "#calculate residuals (acutal - prediction)\n",
    "train['residuals'] = train.taxvalue - train.yhat\n"
   ]
  },
  {
   "cell_type": "code",
   "execution_count": 36,
   "id": "d0944023",
   "metadata": {},
   "outputs": [
    {
     "data": {
      "text/html": [
       "<div>\n",
       "<style scoped>\n",
       "    .dataframe tbody tr th:only-of-type {\n",
       "        vertical-align: middle;\n",
       "    }\n",
       "\n",
       "    .dataframe tbody tr th {\n",
       "        vertical-align: top;\n",
       "    }\n",
       "\n",
       "    .dataframe thead th {\n",
       "        text-align: right;\n",
       "    }\n",
       "</style>\n",
       "<table border=\"1\" class=\"dataframe\">\n",
       "  <thead>\n",
       "    <tr style=\"text-align: right;\">\n",
       "      <th></th>\n",
       "      <th>area</th>\n",
       "      <th>taxvalue</th>\n",
       "      <th>yhat</th>\n",
       "      <th>residuals</th>\n",
       "    </tr>\n",
       "  </thead>\n",
       "  <tbody>\n",
       "    <tr>\n",
       "      <th>1007466</th>\n",
       "      <td>0.001523</td>\n",
       "      <td>0.002672</td>\n",
       "      <td>0.004046</td>\n",
       "      <td>-0.001374</td>\n",
       "    </tr>\n",
       "    <tr>\n",
       "      <th>615622</th>\n",
       "      <td>0.001324</td>\n",
       "      <td>0.002612</td>\n",
       "      <td>0.003556</td>\n",
       "      <td>-0.000943</td>\n",
       "    </tr>\n",
       "  </tbody>\n",
       "</table>\n",
       "</div>"
      ],
      "text/plain": [
       "             area  taxvalue      yhat  residuals\n",
       "1007466  0.001523  0.002672  0.004046  -0.001374\n",
       "615622   0.001324  0.002612  0.003556  -0.000943"
      ]
     },
     "execution_count": 36,
     "metadata": {},
     "output_type": "execute_result"
    }
   ],
   "source": [
    "train.head(2)"
   ]
  },
  {
   "cell_type": "code",
   "execution_count": null,
   "id": "129ca3b6",
   "metadata": {},
   "outputs": [],
   "source": [
    "# Residual plot using the predicted values yhat and the actual values \n",
    "# y_train. This plot helps you visualize the residuals\n",
    "# (the differences between actual and predicted values) \n",
    "# and check for any patterns or outliers in your model's performance."
   ]
  },
  {
   "cell_type": "code",
   "execution_count": 39,
   "id": "346032c7",
   "metadata": {},
   "outputs": [
    {
     "data": {
      "image/png": "[encoded data removed]",
      "text/plain": [
       "<Figure size 640x480 with 1 Axes>"
      ]
     },
     "metadata": {},
     "output_type": "display_data"
    }
   ],
   "source": [
    "# Make scatterplot of y-value vs residuals\n",
    "sns.scatterplot(data=train, x='taxvalue', y='residuals')\n",
    "plt.axhline(0, color='red', linestyle='--')\n",
    "plt.xlabel('Actual')\n",
    "plt.ylabel('Residuals')\n",
    "plt.title('Residual vs Actual Value Plot')\n",
    "plt.show()"
   ]
  },
  {
   "cell_type": "markdown",
   "id": "992a892d",
   "metadata": {},
   "source": [
    "## 4 Calculate the sum of squared errors, explained sum of squares, total sum of squares, mean squared error, and root mean squared error for your model."
   ]
  },
  {
   "cell_type": "code",
   "execution_count": 55,
   "id": "62339d91",
   "metadata": {},
   "outputs": [
    {
     "name": "stdout",
     "output_type": "stream",
     "text": [
      "Sum of Squared Errors (SSE): 67.90081617414633\n"
     ]
    }
   ],
   "source": [
    "#Sum of Squared Errors (SSE):\n",
    "SSE = MSE * len(train)\n",
    "print(\"Sum of Squared Errors (SSE):\", SSE)"
   ]
  },
  {
   "cell_type": "code",
   "execution_count": 58,
   "id": "5f51e973",
   "metadata": {},
   "outputs": [
    {
     "name": "stdout",
     "output_type": "stream",
     "text": [
      "Explained Sum of Squares (ESS): 17.216048980209305\n"
     ]
    }
   ],
   "source": [
    "ESS = ((train.yhat - train.taxvalue.mean())**2).sum()\n",
    "print(\"Explained Sum of Squares (ESS):\", ESS)"
   ]
  },
  {
   "cell_type": "code",
   "execution_count": 59,
   "id": "73722b20",
   "metadata": {},
   "outputs": [
    {
     "name": "stdout",
     "output_type": "stream",
     "text": [
      "Total Sum of Squares (TSS): 85.11686515435564\n"
     ]
    }
   ],
   "source": [
    "TSS = ESS + SSE\n",
    "print(\"Total Sum of Squares (TSS):\", TSS)"
   ]
  },
  {
   "cell_type": "code",
   "execution_count": 53,
   "id": "05b13d7c",
   "metadata": {},
   "outputs": [
    {
     "name": "stdout",
     "output_type": "stream",
     "text": [
      "Mean Squared Error (MSE): 4.532268575012237e-05\n"
     ]
    }
   ],
   "source": [
    "MSE = mean_squared_error(train.taxvalue, train.yhat)\n",
    "print(\"Mean Squared Error (MSE):\",MSE)"
   ]
  },
  {
   "cell_type": "code",
   "execution_count": 56,
   "id": "e2074d05",
   "metadata": {},
   "outputs": [
    {
     "name": "stdout",
     "output_type": "stream",
     "text": [
      "Root Mean Squared Error (RMSE): 0.006732212544930705\n"
     ]
    }
   ],
   "source": [
    "RMSE = MSE**.5\n",
    "print(\"Root Mean Squared Error (RMSE):\",RMSE)"
   ]
  },
  {
   "cell_type": "markdown",
   "id": "657d3ef4",
   "metadata": {},
   "source": [
    "## 5. Calculate the sum of squared errors, mean squared error, and root mean squared error for the baseline model (i.e. a model that always predicts the average taxvaluedollarcnt amount)."
   ]
  },
  {
   "cell_type": "code",
   "execution_count": 60,
   "id": "3e90e0bf",
   "metadata": {},
   "outputs": [],
   "source": [
    "train['baseline'] = train.taxvalue.mean()\n"
   ]
  },
  {
   "cell_type": "code",
   "execution_count": 62,
   "id": "79dfc1a3",
   "metadata": {},
   "outputs": [
    {
     "data": {
      "text/html": [
       "<div>\n",
       "<style scoped>\n",
       "    .dataframe tbody tr th:only-of-type {\n",
       "        vertical-align: middle;\n",
       "    }\n",
       "\n",
       "    .dataframe tbody tr th {\n",
       "        vertical-align: top;\n",
       "    }\n",
       "\n",
       "    .dataframe thead th {\n",
       "        text-align: right;\n",
       "    }\n",
       "</style>\n",
       "<table border=\"1\" class=\"dataframe\">\n",
       "  <thead>\n",
       "    <tr style=\"text-align: right;\">\n",
       "      <th></th>\n",
       "      <th>area</th>\n",
       "      <th>taxvalue</th>\n",
       "      <th>yhat</th>\n",
       "      <th>residuals</th>\n",
       "      <th>baseline</th>\n",
       "    </tr>\n",
       "  </thead>\n",
       "  <tbody>\n",
       "    <tr>\n",
       "      <th>1007466</th>\n",
       "      <td>0.001523</td>\n",
       "      <td>0.002672</td>\n",
       "      <td>0.004046</td>\n",
       "      <td>-0.001374</td>\n",
       "      <td>0.005106</td>\n",
       "    </tr>\n",
       "    <tr>\n",
       "      <th>615622</th>\n",
       "      <td>0.001324</td>\n",
       "      <td>0.002612</td>\n",
       "      <td>0.003556</td>\n",
       "      <td>-0.000943</td>\n",
       "      <td>0.005106</td>\n",
       "    </tr>\n",
       "  </tbody>\n",
       "</table>\n",
       "</div>"
      ],
      "text/plain": [
       "             area  taxvalue      yhat  residuals  baseline\n",
       "1007466  0.001523  0.002672  0.004046  -0.001374  0.005106\n",
       "615622   0.001324  0.002612  0.003556  -0.000943  0.005106"
      ]
     },
     "execution_count": 62,
     "metadata": {},
     "output_type": "execute_result"
    }
   ],
   "source": [
    "train.head(2)"
   ]
  },
  {
   "cell_type": "code",
   "execution_count": 66,
   "id": "b9bb7e54",
   "metadata": {},
   "outputs": [
    {
     "name": "stdout",
     "output_type": "stream",
     "text": [
      "Mean Squared Error (MSE): 5.6814117249078334e-05\n"
     ]
    }
   ],
   "source": [
    "# mean squared error\n",
    "MSE_baseline = mean_squared_error(train.taxvalue, train.baseline)\n",
    "print(\"Mean Squared Error (MSE):\",MSE_baseline)\n"
   ]
  },
  {
   "cell_type": "code",
   "execution_count": 68,
   "id": "c005bba2",
   "metadata": {},
   "outputs": [
    {
     "name": "stdout",
     "output_type": "stream",
     "text": [
      "Sum of Squared Error (SSE): 85.11686515434819\n"
     ]
    }
   ],
   "source": [
    "# sum of squared errors\n",
    "SSE_baseline = MSE_baseline * len(train)\n",
    "print(\"Sum of Squared Error (SSE):\",SSE_baseline)\n"
   ]
  },
  {
   "cell_type": "code",
   "execution_count": 69,
   "id": "70d77551",
   "metadata": {},
   "outputs": [
    {
     "name": "stdout",
     "output_type": "stream",
     "text": [
      "Root Mean Squared Error (RMSE): 0.0075375139966091164\n"
     ]
    }
   ],
   "source": [
    "# Root mean squared error\n",
    "RMSE_baseline = MSE_baseline**.5\n",
    "print(\"Root Mean Squared Error (RMSE):\",RMSE_baseline)\n"
   ]
  },
  {
   "cell_type": "code",
   "execution_count": null,
   "id": "5e5a2902",
   "metadata": {},
   "outputs": [],
   "source": [
    "# OR"
   ]
  },
  {
   "cell_type": "code",
   "execution_count": 46,
   "id": "32492541",
   "metadata": {},
   "outputs": [
    {
     "name": "stdout",
     "output_type": "stream",
     "text": [
      "Sum of Squared Errors (SSE) for Baseline Model: 85.11686515434819\n",
      "Mean Squared Error (MSE) for Baseline Model: 5.6814117249078334e-05\n",
      "Root Mean Squared Error (RMSE) for Baseline Model: 0.0075375139966091164\n"
     ]
    }
   ],
   "source": [
    "# Calculate the average of taxvaluedollarcnt in the training data (baseline prediction)\n",
    "baseline_prediction = np.mean(y_train)\n",
    "\n",
    "# Calculate the squared differences between actual values and baseline prediction\n",
    "baseline_squared_errors = (y_train - baseline_prediction) ** 2\n",
    "\n",
    "# Calculate the Sum of Squared Errors (SSE) for the baseline model\n",
    "baseline_sse = baseline_squared_errors.sum()\n",
    "\n",
    "# Calculate the Mean Squared Error (MSE) for the baseline model\n",
    "baseline_mse = baseline_sse / len(y_train)\n",
    "\n",
    "# Calculate the Root Mean Squared Error (RMSE) for the baseline model\n",
    "baseline_rmse = np.sqrt(baseline_mse)\n",
    "\n",
    "print(\"Sum of Squared Errors (SSE) for Baseline Model:\", baseline_sse)\n",
    "print(\"Mean Squared Error (MSE) for Baseline Model:\", baseline_mse)\n",
    "print(\"Root Mean Squared Error (RMSE) for Baseline Model:\", baseline_rmse)\n"
   ]
  },
  {
   "cell_type": "markdown",
   "id": "14ae4087",
   "metadata": {},
   "source": [
    "Notes:-\n",
    "baseline_prediction is the constant prediction, which is the average of 'taxvaluedollarcnt' in the training data.\n",
    "baseline_squared_errors contains the squared differences between actual values and the baseline prediction for each data point.\n",
    "baseline_sse is the Sum of Squared Errors (SSE) for the baseline model.\n",
    "baseline_mse is the Mean Squared Error (MSE) for the baseline model.\n",
    "baseline_rmse is the Root Mean Squared Error (RMSE) for the baseline model.\n",
    "These metrics provide a baseline for comparison with the performance of your linear regression model.\n",
    "\n",
    "\n",
    "    "
   ]
  },
  {
   "cell_type": "markdown",
   "id": "c9928c31",
   "metadata": {},
   "source": [
    "\n",
    "## 6. Write python code that compares the sum of squared errors for your model against the sum of squared errors for the baseline model and outputs whether or not your model performs better than the baseline model.\n",
    "\n",
    "\n",
    "\n",
    "\n"
   ]
  },
  {
   "cell_type": "code",
   "execution_count": 71,
   "id": "9e257e75",
   "metadata": {},
   "outputs": [
    {
     "name": "stdout",
     "output_type": "stream",
     "text": [
      "My OSL model performs better than the baseline model.\n"
     ]
    }
   ],
   "source": [
    "\n",
    "# SSE for your model is stored in the variable 'sse'\n",
    "\n",
    "# Calculate SSE for the baseline model\n",
    "baseline_prediction = np.mean(y_train)\n",
    "baseline_squared_errors = (y_train - baseline_prediction) ** 2\n",
    "baseline_sse = baseline_squared_errors.sum()\n",
    "\n",
    "# Compare SSE for your model and baseline model\n",
    "if sse < baseline_sse:\n",
    "    print(\"My OSL model performs better than the baseline model.\")\n",
    "elif sse > baseline_sse:\n",
    "    print(\"My OSL model performs worse than the baseline model.\")\n",
    "else:\n",
    "    print(\"My OSL model performs equally as the baseline model.\")\n"
   ]
  },
  {
   "cell_type": "markdown",
   "id": "669138f7",
   "metadata": {},
   "source": [
    "## 7.What is the amount of variance explained in your model?"
   ]
  },
  {
   "cell_type": "markdown",
   "id": "4cfa46fe",
   "metadata": {},
   "source": [
    "To calculate the amount of variance explained by your model, you can use the coefficient of determination, which is often denoted as R-squared (R²)"
   ]
  },
  {
   "cell_type": "code",
   "execution_count": 48,
   "id": "1040a9b1",
   "metadata": {},
   "outputs": [
    {
     "name": "stdout",
     "output_type": "stream",
     "text": [
      "R-squared (Amount of Variance Explained): 0.20226366359925063\n"
     ]
    }
   ],
   "source": [
    "# Calculate R-squared (amount of variance explained)\n",
    "r_squared = 1 - (sse / tss)\n",
    "\n",
    "print(\"R-squared (Amount of Variance Explained):\", r_squared)\n"
   ]
  },
  {
   "cell_type": "code",
   "execution_count": null,
   "id": "eca25a96",
   "metadata": {},
   "outputs": [],
   "source": [
    "# OR"
   ]
  },
  {
   "cell_type": "code",
   "execution_count": 72,
   "id": "0282f879",
   "metadata": {},
   "outputs": [
    {
     "data": {
      "text/plain": [
       "0.20226366359932038"
      ]
     },
     "execution_count": 72,
     "metadata": {},
     "output_type": "execute_result"
    }
   ],
   "source": [
    "#manually\n",
    "R2 = ESS / TSS\n",
    "R2\n"
   ]
  },
  {
   "cell_type": "code",
   "execution_count": null,
   "id": "8fcda8dd",
   "metadata": {},
   "outputs": [],
   "source": [
    "# OR"
   ]
  },
  {
   "cell_type": "code",
   "execution_count": 76,
   "id": "5a2c4d79",
   "metadata": {},
   "outputs": [
    {
     "data": {
      "text/plain": [
       "0.20226366359925063"
      ]
     },
     "execution_count": 76,
     "metadata": {},
     "output_type": "execute_result"
    }
   ],
   "source": [
    "#from sklearn\n",
    "r2_score(train.taxvalue, train.yhat)"
   ]
  },
  {
   "cell_type": "markdown",
   "id": "5b7ce72a",
   "metadata": {},
   "source": [
    "## 8. Is your model better than the baseline model?"
   ]
  },
  {
   "cell_type": "code",
   "execution_count": 77,
   "id": "dc8107ed",
   "metadata": {},
   "outputs": [
    {
     "data": {
      "text/plain": [
       "0.0008053014516784113"
      ]
     },
     "execution_count": 77,
     "metadata": {},
     "output_type": "execute_result"
    }
   ],
   "source": [
    "RMSE_baseline - RMSE\n"
   ]
  },
  {
   "cell_type": "markdown",
   "id": "11506ead",
   "metadata": {},
   "source": [
    "To determine whether your model is better, you typically consider factors such as the metric used for evaluation (e.g., SSE, MSE, R-squared), domain knowledge, and the goals of your analysis.\n",
    "\n",
    "- If your model has lower error metrics (e.g., lower SSE, lower MSE, higher R-squared) compared to the baseline model, it suggests that your model is performing better in terms of prediction accuracy. Lower error metrics generally indicate a better fit to the data.\n",
    "\n"
   ]
  },
  {
   "cell_type": "markdown",
   "id": "2f358d9e",
   "metadata": {},
   "source": [
    "  - Yes, the model performs better than the baseline model but is still pretty bad and\n",
    "  -   we don't want to use it.\n",
    " "
   ]
  },
  {
   "cell_type": "markdown",
   "id": "698ca119",
   "metadata": {},
   "source": [
    "## 9. Create a file named evaluate.py that contains the following functions.\n",
    "\n",
    " - plot_residuals(y, yhat): creates a residual plot\n",
    " - regression_errors(y, yhat): returns the following values:\n",
    " - sum of squared errors (SSE)\n",
    " - explained sum of squares (ESS)\n",
    " - total sum of squares (TSS)\n",
    " - mean squared error (MSE)\n",
    " - root mean squared error (RMSE)\n",
    " - baseline_mean_errors(y): computes the SSE, MSE, and RMSE for the baseline model\n",
    " - better_than_baseline(y, yhat): returns true if your model performs better than the baseline, otherwise false"
   ]
  },
  {
   "cell_type": "code",
   "execution_count": 49,
   "id": "471c13c2",
   "metadata": {},
   "outputs": [],
   "source": [
    "#copy this to evaluate.py\n",
    "\n",
    "def plot_residuals(y, yhat):\n",
    "    \"\"\"\n",
    "    Create a residual plot.\n",
    "\n",
    "    Args:\n",
    "    - y: Actual target values.\n",
    "    - yhat: Predicted target values.\n",
    "\n",
    "    Returns:\n",
    "    None\n",
    "    \"\"\"\n",
    "    residuals = y - yhat\n",
    "    plt.figure(figsize=(10, 6))\n",
    "    plt.scatter(y, residuals)\n",
    "    plt.axhline(0, color='red', linestyle='--')\n",
    "    plt.xlabel(\"Actual\")\n",
    "    plt.ylabel(\"Residuals\")\n",
    "    plt.title(\"Residual Plot\")\n",
    "    plt.show()\n",
    "\n",
    "def regression_errors(y, yhat):\n",
    "    \"\"\"\n",
    "    Calculate regression error metrics.\n",
    "\n",
    "    Args:\n",
    "    - y: Actual target values.\n",
    "    - yhat: Predicted target values.\n",
    "\n",
    "    Returns:\n",
    "    - sse: Sum of Squared Errors\n",
    "    - ess: Explained Sum of Squares\n",
    "    - tss: Total Sum of Squares\n",
    "    - mse: Mean Squared Error\n",
    "    - rmse: Root Mean Squared Error\n",
    "    \"\"\"\n",
    "    sse = ((y - yhat) ** 2).sum()\n",
    "    ess = ((yhat - y.mean()) ** 2).sum()\n",
    "    tss = ((y - y.mean()) ** 2).sum()\n",
    "    mse = sse / len(y)\n",
    "    rmse = np.sqrt(mse)\n",
    "    return sse, ess, tss, mse, rmse\n",
    "\n",
    "def baseline_mean_errors(y):\n",
    "    \"\"\"\n",
    "    Calculate regression error metrics for the baseline model.\n",
    "\n",
    "    Args:\n",
    "    - y: Actual target values.\n",
    "\n",
    "    Returns:\n",
    "    - sse_baseline: SSE for the baseline model\n",
    "    - mse_baseline: MSE for the baseline model\n",
    "    - rmse_baseline: RMSE for the baseline model\n",
    "    \"\"\"\n",
    "    y_baseline = np.mean(y)\n",
    "    sse_baseline = ((y - y_baseline) ** 2).sum()\n",
    "    mse_baseline = sse_baseline / len(y)\n",
    "    rmse_baseline = np.sqrt(mse_baseline)\n",
    "    return sse_baseline, mse_baseline, rmse_baseline\n",
    "\n",
    "def better_than_baseline(y, yhat):\n",
    "    \"\"\"\n",
    "    Determine if the model performs better than the baseline.\n",
    "\n",
    "    Args:\n",
    "    - y: Actual target values.\n",
    "    - yhat: Predicted target values.\n",
    "\n",
    "    Returns:\n",
    "    - True if the model performs better than the baseline, otherwise False.\n",
    "    \"\"\"\n",
    "    sse, _, _, _, _ = regression_errors(y, yhat)\n",
    "    sse_baseline, _, _ = baseline_mean_errors(y)\n",
    "    return sse < sse_baseline  # Model is better if its SSE is lower than baseline SSE\n"
   ]
  },
  {
   "cell_type": "code",
   "execution_count": null,
   "id": "c0ed91bd",
   "metadata": {},
   "outputs": [],
   "source": []
  }
 ],
 "metadata": {
  "kernelspec": {
   "display_name": "Python 3 (ipykernel)",
   "language": "python",
   "name": "python3"
  },
  "language_info": {
   "codemirror_mode": {
    "name": "ipython",
    "version": 3
   },
   "file_extension": ".py",
   "mimetype": "text/x-python",
   "name": "python",
   "nbconvert_exporter": "python",
   "pygments_lexer": "ipython3",
   "version": "3.11.3"
  }
 },
 "nbformat": 4,
 "nbformat_minor": 5
}
